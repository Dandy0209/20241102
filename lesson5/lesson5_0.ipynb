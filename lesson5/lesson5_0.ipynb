{
<<<<<<< HEAD:lesson5/lesson5_0.ipynb
 "cells": [],
=======
 "cells": [
  {
   "cell_type": "code",
   "execution_count": 3,
   "metadata": {},
   "outputs": [
    {
     "name": "stdout",
     "output_type": "stream",
     "text": [
      "Hello Python\n"
     ]
    }
   ],
   "source": [
    "print(\"Hello Python\")"
   ]
  }
 ],
>>>>>>> ae6d10fa6e1dbff493bbb5f90f700216793a13af:lesson1_1.ipynb
 "metadata": {
  "kernelspec": {
   "display_name": "base",
   "language": "python",
   "name": "python3"
  },
  "language_info": {
   "codemirror_mode": {
    "name": "ipython",
    "version": 3
   },
   "file_extension": ".py",
   "mimetype": "text/x-python",
   "name": "python",
   "nbconvert_exporter": "python",
   "pygments_lexer": "ipython3",
<<<<<<< HEAD:lesson5/lesson5_0.ipynb
   "version": "3.12.3"
=======
   "version": "3.12.7"
>>>>>>> ae6d10fa6e1dbff493bbb5f90f700216793a13af:lesson1_1.ipynb
  }
 },
 "nbformat": 4,
 "nbformat_minor": 2
}
